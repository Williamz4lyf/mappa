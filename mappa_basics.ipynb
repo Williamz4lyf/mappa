{
 "cells": [
  {
   "cell_type": "markdown",
   "source": [
    "# 🎯 Project Brief\n",
    "At Mappa, we're redefining the experience of finding a new home. From finding a new neighbourhood, to property viewings, negotiations and dealing with admin (e.g. mortgage and legal), your decision-making potential will be maximised to allow you secure the best value for your money.\n",
    "\n",
    "Our mission is to hand back knowledge and control to the house hunter using the power of data and technology. Our goal with this project is create is to create a master list of listed properties starting with London. Your task is the extract and blend property datasets across the Greater London area (United Kingdom) in one dataset.\n",
    "\n",
    "**Key Deliverables:**\n",
    "* Code base \n",
    "* Documentation\n",
    "* Architecture diagram of flow\n",
    "\n",
    "**Review and Selection:**\n",
    "Contestants will be evaluated on:\n",
    "* End-to-end process\n",
    "* Code base quality\n",
    "* Extracted dataset (output) quality\n",
    "* Delivery and Reporting\n",
    "\n",
    "Design thinking is important. Contestants can go to any length to provide an end to end solution that is fully automated, tested and data could be pulled from a database.\n",
    "\n",
    "**🛠️ Tools & Resources**\n",
    "* Python\n",
    "* Scraper API\n",
    "\n",
    "### 👣 Process\n",
    "* Extract / scrape the datasets from all the above websites for a given day of your choosing. Please be aware that:\n",
    " * Individual sources may not offer the same coverage quality and consistency of the fields listed earlier\n",
    " * datasets for rental properties and properties for sale will be somewhat different—it is usually advisable to keep them as separate tables.\n",
    "* Blend these data sets together into one dataset with unique records:\n",
    " * Devise a way to check for duplicate records within the individual datasets then de-dupe\n",
    " * Identify/create a unique identifier that can be used to combine the various records across the datasets\n",
    " * Use that Unique ID to create a Master list of London properties\n",
    "\n",
    "Please be aware that creating the aggregated unique list is a key challenge:\n",
    "* Agents will typically list a single property on multiple websites (Some properties will appear on Zoopla, Rightmove and OTM)\n",
    "* Some agents may use one listing site but not the other (i.e. some property records will exist on Zoopla but not Rightmove and vice versa)"
   ],
   "metadata": {
    "collapsed": false
   },
   "id": "fb2f404c6f105656"
  },
  {
   "cell_type": "markdown",
   "source": [
    "### 🔖 About the Data\n",
    "**Property sites**\n",
    "* [Rightmove](https://www.rightmove.co.uk)\n",
    "* [Zoopla](https://www.zoopla.co.uk)\n",
    "* [On The Market (OTM)](https://www.onthemarket.com)\n",
    "\n",
    "**Required fields**\n",
    "* Transaction type (i.e. sale vs. rent - string)\n",
    "* Bedrooms (integer)\n",
    "* Bathrooms (integer)\n",
    "* Description (free text string)\n",
    "* Property type e.g. flat, detached house, terraced house\n",
    "* Price e.g. 500,000 (typically integer)\n",
    "* Location: Key location data here is Postcode district and/or Postcode\n",
    "* Agent (advertising the property)\n",
    "* Listing source\n",
    "* Listing URL\n",
    "* Other nice-to-have metadata, e.g. If a rental property is furnished or not\n",
    "* Anything else you deem interesting\n",
    "\n",
    "**Geographical remit**\n",
    "Greater London"
   ],
   "metadata": {
    "collapsed": false
   },
   "id": "dbd6c273be0272fc"
  },
  {
   "cell_type": "markdown",
   "source": [
    "### Collect & Load Data"
   ],
   "metadata": {
    "collapsed": false
   },
   "id": "58721a4e2050afde"
  },
  {
   "cell_type": "code",
   "execution_count": 28,
   "outputs": [],
   "source": [
    "import re\n",
    "import datetime\n",
    "\n",
    "import numpy as np\n",
    "import pandas as pd\n",
    "from matplotlib import pyplot as plt\n",
    "import seaborn as sns"
   ],
   "metadata": {
    "collapsed": false,
    "ExecuteTime": {
     "end_time": "2023-09-14T09:39:52.825488Z",
     "start_time": "2023-09-14T09:39:52.611321Z"
    }
   },
   "id": "602df1ad7e7fe639"
  },
  {
   "cell_type": "markdown",
   "source": [
    "We've collected the data from the sites. We'll clean them to ensure they reflect the relevant postcodes and the information is clear."
   ],
   "metadata": {
    "collapsed": false
   },
   "id": "c84f650eee4a5445"
  },
  {
   "cell_type": "code",
   "execution_count": 2,
   "outputs": [
    {
     "data": {
      "text/plain": "  Postcode district                                        Local Areas  \\\n0               BR1                          Bromley, Bickley, Downham   \n1               BR2         Bickley, Hayes, Bromley Common, Shortlands   \n2               BR3  Beckenham, Eden Park, Elmers End, Park Langley...   \n3               BR4                                       West Wickham   \n4               BR5                Orpington, St Mary Cray, Petts Wood   \n\n   Borough  \n0  Bromley  \n1  Bromley  \n2  Bromley  \n3  Bromley  \n4  Bromley  ",
      "text/html": "<div>\n<style scoped>\n    .dataframe tbody tr th:only-of-type {\n        vertical-align: middle;\n    }\n\n    .dataframe tbody tr th {\n        vertical-align: top;\n    }\n\n    .dataframe thead th {\n        text-align: right;\n    }\n</style>\n<table border=\"1\" class=\"dataframe\">\n  <thead>\n    <tr style=\"text-align: right;\">\n      <th></th>\n      <th>Postcode district</th>\n      <th>Local Areas</th>\n      <th>Borough</th>\n    </tr>\n  </thead>\n  <tbody>\n    <tr>\n      <th>0</th>\n      <td>BR1</td>\n      <td>Bromley, Bickley, Downham</td>\n      <td>Bromley</td>\n    </tr>\n    <tr>\n      <th>1</th>\n      <td>BR2</td>\n      <td>Bickley, Hayes, Bromley Common, Shortlands</td>\n      <td>Bromley</td>\n    </tr>\n    <tr>\n      <th>2</th>\n      <td>BR3</td>\n      <td>Beckenham, Eden Park, Elmers End, Park Langley...</td>\n      <td>Bromley</td>\n    </tr>\n    <tr>\n      <th>3</th>\n      <td>BR4</td>\n      <td>West Wickham</td>\n      <td>Bromley</td>\n    </tr>\n    <tr>\n      <th>4</th>\n      <td>BR5</td>\n      <td>Orpington, St Mary Cray, Petts Wood</td>\n      <td>Bromley</td>\n    </tr>\n  </tbody>\n</table>\n</div>"
     },
     "execution_count": 2,
     "metadata": {},
     "output_type": "execute_result"
    }
   ],
   "source": [
    "postcodes = pd.read_excel('London postcode districts.xlsx')\n",
    "postcodes.head()"
   ],
   "metadata": {
    "collapsed": false,
    "ExecuteTime": {
     "end_time": "2023-09-14T07:58:30.622653Z",
     "start_time": "2023-09-14T07:58:30.376473Z"
    }
   },
   "id": "aabb30c1dadb8022"
  },
  {
   "cell_type": "code",
   "execution_count": 71,
   "outputs": [],
   "source": [
    "rm_rent = pd.read_csv('rm_rent_df.csv')\n",
    "rm_sale = pd.read_csv('rm_sale_df.csv')\n",
    "otm_rent = pd.read_csv('otm_rent_df.csv')\n",
    "otm_sale = pd.read_csv('otm_sale_df.csv')\n",
    "zp_rent = pd.read_csv('zp_rent_df.csv')\n",
    "zp_sale = pd.read_csv('zp_sale_df.csv')"
   ],
   "metadata": {
    "collapsed": false,
    "ExecuteTime": {
     "end_time": "2023-09-14T11:05:29.590971Z",
     "start_time": "2023-09-14T11:05:29.447797Z"
    }
   },
   "id": "373d3e88626e255e"
  },
  {
   "cell_type": "code",
   "execution_count": 72,
   "outputs": [],
   "source": [
    "rm_rent = rm_rent.assign(\n",
    "    postcode=lambda x: x.address.str.split(' ').str[-1],\n",
    "    listing_source='rightmove',\n",
    ")\n",
    "\n",
    "rm_sale = rm_sale.assign(\n",
    "    postcode=lambda x: x.address.str.split(' ').str[-1],\n",
    "    listing_source='rightmove',\n",
    ")\n",
    "\n",
    "otm_rent = otm_rent.assign(\n",
    "    postcode=lambda x: x.address.str.split(' ').str[-1],\n",
    "    listing_source='onthemarket',\n",
    ")\n",
    "\n",
    "otm_sale = otm_sale.assign(\n",
    "    postcode=lambda x: x.address.str.split(' ').str[-1],\n",
    "    listing_source='onthemarket',\n",
    ")\n",
    "\n",
    "zp_rent = zp_rent.assign(\n",
    "    postcode=lambda x: x.address.str.split(' ').str[-1],\n",
    "    listing_source='zoopla',\n",
    ")\n",
    "\n",
    "zp_sale = zp_sale.assign(\n",
    "    postcode=lambda x: x.address.str.split(' ').str[-1],\n",
    "    listing_source='zoopla',\n",
    ")"
   ],
   "metadata": {
    "collapsed": false,
    "ExecuteTime": {
     "end_time": "2023-09-14T11:05:33.413475Z",
     "start_time": "2023-09-14T11:05:33.372287Z"
    }
   },
   "id": "fc90605fd52cf3b1"
  },
  {
   "cell_type": "code",
   "execution_count": 73,
   "outputs": [
    {
     "data": {
      "text/plain": "     property_id                                              title  \\\n0  prop139453520               \\n            2 bedroom flat           \n1  prop138393464          \\n            3 bedroom apartment           \n2  prop139667669  \\n            2 bedroom ground floor flat           \n3  prop139667666               \\n            2 bedroom flat           \n4  prop139667426          \\n            2 bedroom apartment           \n\n                                                 url  \\\n0  https://www.rightmove.co.uk/properties/1394535...   \n1  https://www.rightmove.co.uk/properties/1383934...   \n2  https://www.rightmove.co.uk/properties/1396676...   \n3  https://www.rightmove.co.uk/properties/1396676...   \n4  https://www.rightmove.co.uk/properties/1396674...   \n\n                                address country         tag  \\\n0  Regents Park Road, Primrose Hill NW1      GB  Commercial   \n1          Bolsover Street, London, W1W      GB  Commercial   \n2               Prince Of Wales Terrace      GB  Commercial   \n3                        Rainville Road      GB  Commercial   \n4   Heath Road, Weybridge, Surrey, KT13      GB  Commercial   \n\n                       property_status primary price  \\\n0  \\nDevelopment Microsite\\n\\n\\n\\n\\n\\n    £3,120 pcm   \n1  \\nDevelopment Microsite\\n\\n\\n\\n\\n\\n    £7,800 pcm   \n2  \\nDevelopment Microsite\\n\\n\\n\\n\\n\\n   £13,000 pcm   \n3  \\nDevelopment Microsite\\n\\n\\n\\n\\n\\n    £3,878 pcm   \n4  \\nDevelopment Microsite\\n\\n\\n\\n\\n\\n    £1,750 pcm   \n\n                                     secondary price  \\\n0  £720 pwThe amount per month or week you need t...   \n1  £1,800 pwThe amount per month or week you need...   \n2  £3,000 pwThe amount per month or week you need...   \n3  £895 pwThe amount per month or week you need t...   \n4  £404 pwThe amount per month or week you need t...   \n\n                           agent  ...           date_added  \\\n0        Parkheath, Belsize Park  ...  Added on 04/09/2023   \n1        AC RESIDENTIAL, Mayfair  ...        Reduced today   \n2                 Scraye, London  ...          Added today   \n3                 Scraye, London  ...          Added today   \n4  Winkworth, Weybridge Lettings  ...          Added today   \n\n                                     letting_details property_type beds baths  \\\n0  ['Let available date: 29/10/2023', 'Deposit: £...          Flat   ×2    ×2   \n1  ['Let available date: Now', 'Deposit: £10,800A...     Apartment   ×3    ×3   \n2  ['Let available date: Now', 'Deposit: Ask agen...   Ground Flat   ×2    ×2   \n3  ['Let available date: Now', 'Deposit: Ask agen...          Flat   ×2    ×1   \n4  ['Let available date: 15/09/2023', 'Deposit: £...     Apartment   ×2    ×1   \n\n                                        key_features  \\\n0  ['Characterful 2 bedroom apartment', 'Private ...   \n1  ['Fully Furnished', 'Shops and amenities nearb...   \n2  ['Terrace', 'Short lets available', 'Elevator'...   \n3  ['24 hour security', 'Short lets available', '...   \n4                                                NaN   \n\n                                         description  property_size postcode  \\\n0  Bright and characterful 2 bedroom apartment  -...    912 sq. ft.      NW1   \n1  THE HOMEFully renovated and interior-designed ...            NaN      W1W   \n2  Reference: 9585#Presenting a newly-refurbished...  1,035 sq. ft.  Terrace   \n3  Reference: 9760#No Deposit available. Presenti...    667 sq. ft.     Road   \n4  A newly refurbished 1st floor purpose built ap...            NaN     KT13   \n\n  listing_source  \n0      rightmove  \n1      rightmove  \n2      rightmove  \n3      rightmove  \n4      rightmove  \n\n[5 rows x 23 columns]",
      "text/html": "<div>\n<style scoped>\n    .dataframe tbody tr th:only-of-type {\n        vertical-align: middle;\n    }\n\n    .dataframe tbody tr th {\n        vertical-align: top;\n    }\n\n    .dataframe thead th {\n        text-align: right;\n    }\n</style>\n<table border=\"1\" class=\"dataframe\">\n  <thead>\n    <tr style=\"text-align: right;\">\n      <th></th>\n      <th>property_id</th>\n      <th>title</th>\n      <th>url</th>\n      <th>address</th>\n      <th>country</th>\n      <th>tag</th>\n      <th>property_status</th>\n      <th>primary price</th>\n      <th>secondary price</th>\n      <th>agent</th>\n      <th>...</th>\n      <th>date_added</th>\n      <th>letting_details</th>\n      <th>property_type</th>\n      <th>beds</th>\n      <th>baths</th>\n      <th>key_features</th>\n      <th>description</th>\n      <th>property_size</th>\n      <th>postcode</th>\n      <th>listing_source</th>\n    </tr>\n  </thead>\n  <tbody>\n    <tr>\n      <th>0</th>\n      <td>prop139453520</td>\n      <td>\\n            2 bedroom flat</td>\n      <td>https://www.rightmove.co.uk/properties/1394535...</td>\n      <td>Regents Park Road, Primrose Hill NW1</td>\n      <td>GB</td>\n      <td>Commercial</td>\n      <td>\\nDevelopment Microsite\\n\\n\\n\\n\\n\\n</td>\n      <td>£3,120 pcm</td>\n      <td>£720 pwThe amount per month or week you need t...</td>\n      <td>Parkheath, Belsize Park</td>\n      <td>...</td>\n      <td>Added on 04/09/2023</td>\n      <td>['Let available date: 29/10/2023', 'Deposit: £...</td>\n      <td>Flat</td>\n      <td>×2</td>\n      <td>×2</td>\n      <td>['Characterful 2 bedroom apartment', 'Private ...</td>\n      <td>Bright and characterful 2 bedroom apartment  -...</td>\n      <td>912 sq. ft.</td>\n      <td>NW1</td>\n      <td>rightmove</td>\n    </tr>\n    <tr>\n      <th>1</th>\n      <td>prop138393464</td>\n      <td>\\n            3 bedroom apartment</td>\n      <td>https://www.rightmove.co.uk/properties/1383934...</td>\n      <td>Bolsover Street, London, W1W</td>\n      <td>GB</td>\n      <td>Commercial</td>\n      <td>\\nDevelopment Microsite\\n\\n\\n\\n\\n\\n</td>\n      <td>£7,800 pcm</td>\n      <td>£1,800 pwThe amount per month or week you need...</td>\n      <td>AC RESIDENTIAL, Mayfair</td>\n      <td>...</td>\n      <td>Reduced today</td>\n      <td>['Let available date: Now', 'Deposit: £10,800A...</td>\n      <td>Apartment</td>\n      <td>×3</td>\n      <td>×3</td>\n      <td>['Fully Furnished', 'Shops and amenities nearb...</td>\n      <td>THE HOMEFully renovated and interior-designed ...</td>\n      <td>NaN</td>\n      <td>W1W</td>\n      <td>rightmove</td>\n    </tr>\n    <tr>\n      <th>2</th>\n      <td>prop139667669</td>\n      <td>\\n            2 bedroom ground floor flat</td>\n      <td>https://www.rightmove.co.uk/properties/1396676...</td>\n      <td>Prince Of Wales Terrace</td>\n      <td>GB</td>\n      <td>Commercial</td>\n      <td>\\nDevelopment Microsite\\n\\n\\n\\n\\n\\n</td>\n      <td>£13,000 pcm</td>\n      <td>£3,000 pwThe amount per month or week you need...</td>\n      <td>Scraye, London</td>\n      <td>...</td>\n      <td>Added today</td>\n      <td>['Let available date: Now', 'Deposit: Ask agen...</td>\n      <td>Ground Flat</td>\n      <td>×2</td>\n      <td>×2</td>\n      <td>['Terrace', 'Short lets available', 'Elevator'...</td>\n      <td>Reference: 9585#Presenting a newly-refurbished...</td>\n      <td>1,035 sq. ft.</td>\n      <td>Terrace</td>\n      <td>rightmove</td>\n    </tr>\n    <tr>\n      <th>3</th>\n      <td>prop139667666</td>\n      <td>\\n            2 bedroom flat</td>\n      <td>https://www.rightmove.co.uk/properties/1396676...</td>\n      <td>Rainville Road</td>\n      <td>GB</td>\n      <td>Commercial</td>\n      <td>\\nDevelopment Microsite\\n\\n\\n\\n\\n\\n</td>\n      <td>£3,878 pcm</td>\n      <td>£895 pwThe amount per month or week you need t...</td>\n      <td>Scraye, London</td>\n      <td>...</td>\n      <td>Added today</td>\n      <td>['Let available date: Now', 'Deposit: Ask agen...</td>\n      <td>Flat</td>\n      <td>×2</td>\n      <td>×1</td>\n      <td>['24 hour security', 'Short lets available', '...</td>\n      <td>Reference: 9760#No Deposit available. Presenti...</td>\n      <td>667 sq. ft.</td>\n      <td>Road</td>\n      <td>rightmove</td>\n    </tr>\n    <tr>\n      <th>4</th>\n      <td>prop139667426</td>\n      <td>\\n            2 bedroom apartment</td>\n      <td>https://www.rightmove.co.uk/properties/1396674...</td>\n      <td>Heath Road, Weybridge, Surrey, KT13</td>\n      <td>GB</td>\n      <td>Commercial</td>\n      <td>\\nDevelopment Microsite\\n\\n\\n\\n\\n\\n</td>\n      <td>£1,750 pcm</td>\n      <td>£404 pwThe amount per month or week you need t...</td>\n      <td>Winkworth, Weybridge Lettings</td>\n      <td>...</td>\n      <td>Added today</td>\n      <td>['Let available date: 15/09/2023', 'Deposit: £...</td>\n      <td>Apartment</td>\n      <td>×2</td>\n      <td>×1</td>\n      <td>NaN</td>\n      <td>A newly refurbished 1st floor purpose built ap...</td>\n      <td>NaN</td>\n      <td>KT13</td>\n      <td>rightmove</td>\n    </tr>\n  </tbody>\n</table>\n<p>5 rows × 23 columns</p>\n</div>"
     },
     "execution_count": 73,
     "metadata": {},
     "output_type": "execute_result"
    }
   ],
   "source": [
    "rm_rent.head()"
   ],
   "metadata": {
    "collapsed": false,
    "ExecuteTime": {
     "end_time": "2023-09-14T11:05:36.865091Z",
     "start_time": "2023-09-14T11:05:36.832569Z"
    }
   },
   "id": "72e14547a456848d"
  },
  {
   "cell_type": "markdown",
   "source": [
    "### Data Cleaning\n",
    "1. Merge dataframes\n",
    "2. Filter dataframes to include only postcodes in the `postcodes` dataframe\n",
    "3. Remove trailing spaces\n",
    "4. Drop irrelevant columns\n",
    "5. Clean and convert columns to appropriate datatype\n",
    "6. Clean and create new columns where necessary"
   ],
   "metadata": {
    "collapsed": false
   },
   "id": "af73659d1268f06"
  },
  {
   "cell_type": "markdown",
   "source": [
    "**Merge Dataframes:**"
   ],
   "metadata": {
    "collapsed": false
   },
   "id": "48ca835fef27ea33"
  },
  {
   "cell_type": "code",
   "execution_count": 115,
   "outputs": [
    {
     "name": "stdout",
     "output_type": "stream",
     "text": [
      "<class 'pandas.core.frame.DataFrame'>\n",
      "RangeIndex: 2631 entries, 0 to 2630\n",
      "Data columns (total 29 columns):\n",
      " #   Column           Non-Null Count  Dtype  \n",
      "---  ------           --------------  -----  \n",
      " 0   property_id      2631 non-null   object \n",
      " 1   title            2622 non-null   object \n",
      " 2   url              2631 non-null   object \n",
      " 3   address          2622 non-null   object \n",
      " 4   country          1050 non-null   object \n",
      " 5   tag              1050 non-null   object \n",
      " 6   property_status  1955 non-null   object \n",
      " 7   rent_per_month   2604 non-null   object \n",
      " 8   rent_per_week    1699 non-null   object \n",
      " 9   agent            2622 non-null   object \n",
      " 10  agent_address    1972 non-null   object \n",
      " 11  agent_phone      1972 non-null   object \n",
      " 12  agent_url        2621 non-null   object \n",
      " 13  date_added       2631 non-null   object \n",
      " 14  letting_details  1699 non-null   object \n",
      " 15  property_type    1973 non-null   object \n",
      " 16  beds             2476 non-null   object \n",
      " 17  baths            2574 non-null   object \n",
      " 18  key_features     2348 non-null   object \n",
      " 19  description      2622 non-null   object \n",
      " 20  property_size    820 non-null    object \n",
      " 21  postcode         2622 non-null   object \n",
      " 22  listing_source   2631 non-null   object \n",
      " 23  address_2        905 non-null    object \n",
      " 24  epc_rating       1027 non-null   object \n",
      " 25  key_info         923 non-null    object \n",
      " 26  availability     0 non-null      float64\n",
      " 27  availability_1   580 non-null    object \n",
      " 28  listing_type     2631 non-null   object \n",
      "dtypes: float64(1), object(28)\n",
      "memory usage: 596.2+ KB\n"
     ]
    }
   ],
   "source": [
    "rent_df = pd.concat([rm_rent, otm_rent, zp_rent], axis=0, ignore_index=True).rename(\n",
    "    columns={'primary price': 'rent_per_month',\n",
    "             'secondary price': 'rent_per_week'}\n",
    ").assign(\n",
    "    listing_type='rent'\n",
    ")\n",
    "\n",
    "rent_df.info()"
   ],
   "metadata": {
    "collapsed": false,
    "ExecuteTime": {
     "end_time": "2023-09-14T11:52:49.461053Z",
     "start_time": "2023-09-14T11:52:49.412296Z"
    }
   },
   "id": "f52187cb8d96016b"
  },
  {
   "cell_type": "code",
   "execution_count": 116,
   "outputs": [
    {
     "name": "stdout",
     "output_type": "stream",
     "text": [
      "<class 'pandas.core.frame.DataFrame'>\n",
      "RangeIndex: 2583 entries, 0 to 2582\n",
      "Data columns (total 29 columns):\n",
      " #   Column           Non-Null Count  Dtype \n",
      "---  ------           --------------  ----- \n",
      " 0   property_id      2583 non-null   object\n",
      " 1   title            2579 non-null   object\n",
      " 2   url              2583 non-null   object\n",
      " 3   address          2579 non-null   object\n",
      " 4   tag              1050 non-null   object\n",
      " 5   property_status  1927 non-null   object\n",
      " 6   country          1050 non-null   object\n",
      " 7   price            2574 non-null   object\n",
      " 8   agent            2579 non-null   object\n",
      " 9   agent_address    1932 non-null   object\n",
      " 10  agent_phone      1932 non-null   object\n",
      " 11  agent_url        2577 non-null   object\n",
      " 12  date_added       2583 non-null   object\n",
      " 13  property_type    1932 non-null   object\n",
      " 14  beds             2558 non-null   object\n",
      " 15  baths            2476 non-null   object\n",
      " 16  property_size    972 non-null    object\n",
      " 17  tenure           1041 non-null   object\n",
      " 18  key_features     2391 non-null   object\n",
      " 19  description      2579 non-null   object\n",
      " 20  postcode         2579 non-null   object\n",
      " 21  listing_source   2583 non-null   object\n",
      " 22  address_2        877 non-null    object\n",
      " 23  epc_rating       895 non-null    object\n",
      " 24  key_info         881 non-null    object\n",
      " 25  reception        590 non-null    object\n",
      " 26  sale_tenure      647 non-null    object\n",
      " 27  sale_tenure_1    540 non-null    object\n",
      " 28  listing_type     2583 non-null   object\n",
      "dtypes: object(29)\n",
      "memory usage: 585.3+ KB\n"
     ]
    }
   ],
   "source": [
    "sale_df = pd.concat([rm_sale, otm_sale, zp_sale], axis=0, ignore_index=True).assign(\n",
    "    listing_type='sale'\n",
    ")\n",
    "\n",
    "sale_df.info()"
   ],
   "metadata": {
    "collapsed": false,
    "ExecuteTime": {
     "end_time": "2023-09-14T11:53:01.745357Z",
     "start_time": "2023-09-14T11:53:01.527046Z"
    }
   },
   "id": "35ed00f1bc371fed"
  },
  {
   "cell_type": "markdown",
   "source": [
    "**Drop Missing Values**"
   ],
   "metadata": {
    "collapsed": false
   },
   "id": "bc38457be4d6d7af"
  },
  {
   "cell_type": "code",
   "execution_count": 117,
   "outputs": [],
   "source": [
    "missing_values_count = rent_df.isna().sum(axis=1)\n",
    "rent_df = rent_df.drop(rent_df[missing_values_count > 13].index)"
   ],
   "metadata": {
    "collapsed": false,
    "ExecuteTime": {
     "end_time": "2023-09-14T11:53:06.226526Z",
     "start_time": "2023-09-14T11:53:06.151679Z"
    }
   },
   "id": "75171e4cbb831c3"
  },
  {
   "cell_type": "code",
   "execution_count": 118,
   "outputs": [],
   "source": [
    "missing_values_count = sale_df.isna().sum(axis=1)\n",
    "sale_df = sale_df.drop(sale_df[missing_values_count > 14].index)"
   ],
   "metadata": {
    "collapsed": false,
    "ExecuteTime": {
     "end_time": "2023-09-14T11:53:08.729520Z",
     "start_time": "2023-09-14T11:53:08.689975Z"
    }
   },
   "id": "4d7fe949e2b0d9a0"
  },
  {
   "cell_type": "markdown",
   "source": [
    "**Filter Dataframes by Postcode**"
   ],
   "metadata": {
    "collapsed": false
   },
   "id": "b5677a2d97f9509"
  },
  {
   "cell_type": "code",
   "execution_count": 119,
   "outputs": [],
   "source": [
    "areas = postcodes['Local Areas'].str.split(', ')\n",
    "rent_areas = rent_df.query('postcode.str.len() > 4').address.str.split(', ')\n",
    "# rent_areas = pd.concat([rent_areas, areas], axis=1)"
   ],
   "metadata": {
    "collapsed": false,
    "ExecuteTime": {
     "end_time": "2023-09-14T11:53:15.143146Z",
     "start_time": "2023-09-14T11:53:15.092126Z"
    }
   },
   "id": "e925c1b96a90047f"
  },
  {
   "cell_type": "code",
   "execution_count": 132,
   "outputs": [],
   "source": [
    "def check_value_presence(ser1, ser2):\n",
    "    # Check if any value in list1 is present in list2\n",
    "    val_ind = list()\n",
    "    for ind, list1 in ser1.items():\n",
    "        for ind2, list2 in ser2.items():\n",
    "            for item in list1:\n",
    "                if isinstance(item, str) and item in list2:\n",
    "                    val_ind.append([ind, ind2]) \n",
    "    return val_ind\n",
    "\n",
    "indices = check_value_presence(rent_areas, areas)"
   ],
   "metadata": {
    "collapsed": false,
    "ExecuteTime": {
     "end_time": "2023-09-14T12:36:21.407109Z",
     "start_time": "2023-09-14T12:36:21.349742Z"
    }
   },
   "id": "2a6b22a2aa5c2815"
  },
  {
   "cell_type": "code",
   "execution_count": 131,
   "outputs": [
    {
     "data": {
      "text/plain": "(['Old Oak Common Lane', 'Acton'],\n ['Acton', 'East Acton', 'Park Royal', 'West Acton'])"
     },
     "execution_count": 131,
     "metadata": {},
     "output_type": "execute_result"
    }
   ],
   "source": [
    "rent_areas.loc[322], areas.loc[248]"
   ],
   "metadata": {
    "collapsed": false,
    "ExecuteTime": {
     "end_time": "2023-09-14T12:35:39.882767Z",
     "start_time": "2023-09-14T12:35:39.859504Z"
    }
   },
   "id": "94268001be33cb66"
  },
  {
   "cell_type": "code",
   "execution_count": 129,
   "outputs": [
    {
     "data": {
      "text/plain": "    Postcode district                                        Local Areas  \\\n115              NW10  Willesden, Acton, Harlesden, Kensal Green, Nea...   \n248                W3          Acton, East Acton, Park Royal, West Acton   \n\n    Borough  \n115   Brent  \n248  Ealing  ",
      "text/html": "<div>\n<style scoped>\n    .dataframe tbody tr th:only-of-type {\n        vertical-align: middle;\n    }\n\n    .dataframe tbody tr th {\n        vertical-align: top;\n    }\n\n    .dataframe thead th {\n        text-align: right;\n    }\n</style>\n<table border=\"1\" class=\"dataframe\">\n  <thead>\n    <tr style=\"text-align: right;\">\n      <th></th>\n      <th>Postcode district</th>\n      <th>Local Areas</th>\n      <th>Borough</th>\n    </tr>\n  </thead>\n  <tbody>\n    <tr>\n      <th>115</th>\n      <td>NW10</td>\n      <td>Willesden, Acton, Harlesden, Kensal Green, Nea...</td>\n      <td>Brent</td>\n    </tr>\n    <tr>\n      <th>248</th>\n      <td>W3</td>\n      <td>Acton, East Acton, Park Royal, West Acton</td>\n      <td>Ealing</td>\n    </tr>\n  </tbody>\n</table>\n</div>"
     },
     "execution_count": 129,
     "metadata": {},
     "output_type": "execute_result"
    }
   ],
   "source": [
    "postcodes.loc[[115, 248]]"
   ],
   "metadata": {
    "collapsed": false,
    "ExecuteTime": {
     "end_time": "2023-09-14T12:29:26.159797Z",
     "start_time": "2023-09-14T12:29:26.118946Z"
    }
   },
   "id": "59fdde32d38ba72e"
  },
  {
   "cell_type": "code",
   "execution_count": null,
   "outputs": [],
   "source": [
    "rent_df.query('postcode.str.len() > 4').address.str.split(',')"
   ],
   "metadata": {
    "collapsed": false
   },
   "id": "1aad3cde6a8ef689"
  },
  {
   "cell_type": "code",
   "execution_count": null,
   "outputs": [],
   "source": [
    "postcodes.loc[postcodes['Local Areas'].str.contains('Station Road', re.I)]"
   ],
   "metadata": {
    "collapsed": false
   },
   "id": "a9837eea83eb82ab"
  },
  {
   "cell_type": "code",
   "execution_count": null,
   "outputs": [],
   "source": [
    "postcodes.loc[postcodes['Borough'].str.contains('Station Road', re.I)]"
   ],
   "metadata": {
    "collapsed": false
   },
   "id": "d51c9fe77a853135"
  },
  {
   "cell_type": "code",
   "execution_count": null,
   "outputs": [],
   "source": [
    "rent_df.loc[rent_df.postcode.isin(postcodes['Postcode district'])]"
   ],
   "metadata": {
    "collapsed": false
   },
   "id": "744ab643190e82d4"
  }
 ],
 "metadata": {
  "kernelspec": {
   "display_name": "Python 3",
   "language": "python",
   "name": "python3"
  },
  "language_info": {
   "codemirror_mode": {
    "name": "ipython",
    "version": 2
   },
   "file_extension": ".py",
   "mimetype": "text/x-python",
   "name": "python",
   "nbconvert_exporter": "python",
   "pygments_lexer": "ipython2",
   "version": "2.7.6"
  }
 },
 "nbformat": 4,
 "nbformat_minor": 5
}
